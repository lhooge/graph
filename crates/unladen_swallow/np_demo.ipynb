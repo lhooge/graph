{
 "cells": [
  {
   "cell_type": "markdown",
   "id": "21b22918",
   "metadata": {},
   "source": [
    "# Unladen Swallow"
   ]
  },
  {
   "cell_type": "code",
   "execution_count": 1,
   "id": "8a1eb97d",
   "metadata": {},
   "outputs": [],
   "source": [
    "# prepare logging\n",
    "\n",
    "import logging\n",
    "logging.basicConfig(format=\"%(message)s\")\n",
    "logging.getLogger().setLevel(logging.NOTSET)"
   ]
  },
  {
   "cell_type": "code",
   "execution_count": 2,
   "id": "c130f65a",
   "metadata": {},
   "outputs": [],
   "source": [
    "# import the module\n",
    "\n",
    "import unladen_swallow"
   ]
  },
  {
   "cell_type": "code",
   "execution_count": 3,
   "id": "ace5bb07",
   "metadata": {},
   "outputs": [
    {
     "name": "stderr",
     "output_type": "stream",
     "text": [
      "Read 1048576 edges in 0.00s (12000.00 MB/s)\n",
      "Creating undirected graph\n",
      "Computed degrees in 19.962208ms\n",
      "Computed prefix sum in 54.833µs\n",
      "Computed target array in 33.043583ms\n",
      "Finalized offset array in 99.25µs\n",
      "Created csr in 54.801916ms.\n",
      "Created undirected graph (node_count = 65536, edge_count = 1048576)\n"
     ]
    },
    {
     "data": {
      "text/plain": [
       "Graph { node_count: 65536, edge_count: 1048576, load_took: 58.007ms }"
      ]
     },
     "execution_count": 3,
     "metadata": {},
     "output_type": "execute_result"
    }
   ],
   "source": [
    "# load an undirected graph\n",
    "g = unladen_swallow.Ungraph.load(\"/Users/knut/dev/datasets/graph500/scale_16.graph\")\n",
    "g"
   ]
  },
  {
   "cell_type": "code",
   "execution_count": 4,
   "id": "f965f012",
   "metadata": {},
   "outputs": [
    {
     "data": {
      "text/plain": [
       "30"
      ]
     },
     "execution_count": 4,
     "metadata": {},
     "output_type": "execute_result"
    }
   ],
   "source": [
    "# get degree of first node\n",
    "g.degree(0)"
   ]
  },
  {
   "cell_type": "code",
   "execution_count": 5,
   "id": "d74960b1",
   "metadata": {},
   "outputs": [
    {
     "name": "stderr",
     "output_type": "stream",
     "text": [
      "Relabel: sorted degree-node-pairs in 1.22475ms\n",
      "Relabel: built degrees and id map in 727.166µs\n",
      "Relabel: built and sorted targets in 6.820458ms\n"
     ]
    }
   ],
   "source": [
    "# reorder the graph by degree\n",
    "g.reorder_by_degree()"
   ]
  },
  {
   "cell_type": "code",
   "execution_count": 6,
   "id": "ba9ee139",
   "metadata": {},
   "outputs": [
    {
     "data": {
      "text/plain": [
       "25757"
      ]
     },
     "execution_count": 6,
     "metadata": {},
     "output_type": "execute_result"
    }
   ],
   "source": [
    "# degree of the first node is now something else\n",
    "g.degree(0)"
   ]
  },
  {
   "cell_type": "code",
   "execution_count": 9,
   "id": "ea241338",
   "metadata": {},
   "outputs": [],
   "source": [
    "# get all neighbors of the first node, as a numpy array, doesn't create a copy\n",
    "a = g.neighbors(0)"
   ]
  },
  {
   "cell_type": "code",
   "execution_count": 10,
   "id": "1f175cee",
   "metadata": {},
   "outputs": [
    {
     "data": {
      "text/plain": [
       "25757"
      ]
     },
     "execution_count": 10,
     "metadata": {},
     "output_type": "execute_result"
    }
   ],
   "source": [
    "len(a)"
   ]
  },
  {
   "cell_type": "code",
   "execution_count": 11,
   "id": "04a27f09",
   "metadata": {},
   "outputs": [
    {
     "data": {
      "text/plain": [
       "110882327"
      ]
     },
     "execution_count": 11,
     "metadata": {},
     "output_type": "execute_result"
    }
   ],
   "source": [
    "a.sum()"
   ]
  },
  {
   "cell_type": "code",
   "execution_count": 12,
   "id": "e7e17484",
   "metadata": {},
   "outputs": [],
   "source": [
    "# we can also get thenm as a python list, this does copy the data\n",
    "l = g.copy_neighbors(0)"
   ]
  },
  {
   "cell_type": "code",
   "execution_count": 13,
   "id": "add94c67",
   "metadata": {},
   "outputs": [],
   "source": [
    "# we can delete the graph and still use the neighbors\n",
    "del g"
   ]
  },
  {
   "cell_type": "code",
   "execution_count": 14,
   "id": "b6f5b285",
   "metadata": {},
   "outputs": [
    {
     "data": {
      "text/plain": [
       "25757"
      ]
     },
     "execution_count": 14,
     "metadata": {},
     "output_type": "execute_result"
    }
   ],
   "source": [
    "len(a)"
   ]
  },
  {
   "cell_type": "code",
   "execution_count": 15,
   "id": "a3d51c6f",
   "metadata": {},
   "outputs": [
    {
     "data": {
      "text/plain": [
       "110882327"
      ]
     },
     "execution_count": 15,
     "metadata": {},
     "output_type": "execute_result"
    }
   ],
   "source": [
    "a.sum()"
   ]
  },
  {
   "cell_type": "code",
   "execution_count": 16,
   "id": "e8e3cbdd",
   "metadata": {},
   "outputs": [],
   "source": [
    "# now we can delete the neighbors list, which will remove the graph\n",
    "del a"
   ]
  },
  {
   "cell_type": "code",
   "execution_count": null,
   "id": "2e0d52fc",
   "metadata": {},
   "outputs": [],
   "source": []
  }
 ],
 "metadata": {
  "kernelspec": {
   "display_name": "Python 3 (ipykernel)",
   "language": "python",
   "name": "python3"
  },
  "language_info": {
   "codemirror_mode": {
    "name": "ipython",
    "version": 3
   },
   "file_extension": ".py",
   "mimetype": "text/x-python",
   "name": "python",
   "nbconvert_exporter": "python",
   "pygments_lexer": "ipython3",
   "version": "3.9.10"
  }
 },
 "nbformat": 4,
 "nbformat_minor": 5
}
