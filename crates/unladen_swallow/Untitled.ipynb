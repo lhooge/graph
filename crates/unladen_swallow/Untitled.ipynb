{
 "cells": [
  {
   "cell_type": "markdown",
   "id": "21b22918",
   "metadata": {},
   "source": [
    "# Unladen Swallow"
   ]
  },
  {
   "cell_type": "code",
   "execution_count": null,
   "id": "8a1eb97d",
   "metadata": {},
   "outputs": [],
   "source": [
    "# prepare logging\n",
    "\n",
    "import logging\n",
    "logging.basicConfig(format=\"%(message)s\")\n",
    "logging.getLogger().setLevel(logging.NOTSET)"
   ]
  },
  {
   "cell_type": "code",
   "execution_count": null,
   "id": "c130f65a",
   "metadata": {},
   "outputs": [],
   "source": [
    "# import the module\n",
    "\n",
    "import unladen_swallow"
   ]
  },
  {
   "cell_type": "code",
   "execution_count": null,
   "id": "ace5bb07",
   "metadata": {},
   "outputs": [],
   "source": [
    "# load an undirected graph\n",
    "g = unladen_swallow.Ungraph.load(\"/Users/knut/dev/datasets/graph500/scale_26.graph\")\n",
    "g"
   ]
  },
  {
   "cell_type": "code",
   "execution_count": null,
   "id": "f965f012",
   "metadata": {},
   "outputs": [],
   "source": [
    "# get degree of first node\n",
    "g.degree(0)"
   ]
  },
  {
   "cell_type": "code",
   "execution_count": null,
   "id": "d74960b1",
   "metadata": {},
   "outputs": [],
   "source": [
    "# reorder the graph by degree\n",
    "g.reorder_by_degree()"
   ]
  },
  {
   "cell_type": "code",
   "execution_count": null,
   "id": "ba9ee139",
   "metadata": {},
   "outputs": [],
   "source": [
    "# degree of the first node is now something else\n",
    "g.degree(0)"
   ]
  },
  {
   "cell_type": "code",
   "execution_count": null,
   "id": "ea241338",
   "metadata": {},
   "outputs": [],
   "source": [
    "# get all neighbors of the first node, as a numpy array, doesn't create a copy\n",
    "a = g.neighbors(0)"
   ]
  },
  {
   "cell_type": "code",
   "execution_count": null,
   "id": "1f175cee",
   "metadata": {},
   "outputs": [],
   "source": [
    "len(a)"
   ]
  },
  {
   "cell_type": "code",
   "execution_count": null,
   "id": "04a27f09",
   "metadata": {},
   "outputs": [],
   "source": [
    "a.sum()"
   ]
  },
  {
   "cell_type": "code",
   "execution_count": null,
   "id": "e7e17484",
   "metadata": {},
   "outputs": [],
   "source": [
    "# we can also get thenm as a python list, this does copy the data\n",
    "l = g.copy_neighbors(0)"
   ]
  },
  {
   "cell_type": "code",
   "execution_count": null,
   "id": "add94c67",
   "metadata": {},
   "outputs": [],
   "source": [
    "# we can delete the graph and still use the neighbors\n",
    "del g"
   ]
  },
  {
   "cell_type": "code",
   "execution_count": null,
   "id": "b6f5b285",
   "metadata": {},
   "outputs": [],
   "source": [
    "len(a)"
   ]
  },
  {
   "cell_type": "code",
   "execution_count": null,
   "id": "a3d51c6f",
   "metadata": {},
   "outputs": [],
   "source": [
    "a.sum()"
   ]
  },
  {
   "cell_type": "code",
   "execution_count": null,
   "id": "e8e3cbdd",
   "metadata": {},
   "outputs": [],
   "source": [
    "# now we can delete the neighbors list, which will remove the graph\n",
    "del a"
   ]
  },
  {
   "cell_type": "code",
   "execution_count": null,
   "id": "2e0d52fc",
   "metadata": {},
   "outputs": [],
   "source": []
  }
 ],
 "metadata": {
  "kernelspec": {
   "display_name": "Python 3 (ipykernel)",
   "language": "python",
   "name": "python3"
  },
  "language_info": {
   "codemirror_mode": {
    "name": "ipython",
    "version": 3
   },
   "file_extension": ".py",
   "mimetype": "text/x-python",
   "name": "python",
   "nbconvert_exporter": "python",
   "pygments_lexer": "ipython3",
   "version": "3.9.10"
  }
 },
 "nbformat": 4,
 "nbformat_minor": 5
}
